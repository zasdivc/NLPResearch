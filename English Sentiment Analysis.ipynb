{
 "cells": [
  {
   "cell_type": "code",
   "execution_count": 1,
   "id": "de9cb5a8",
   "metadata": {},
   "outputs": [],
   "source": [
    "import pandas as pd\n",
    "from snownlp import SnowNLP\n",
    "from collections import Counter"
   ]
  },
  {
   "cell_type": "code",
   "execution_count": 2,
   "id": "31097f67",
   "metadata": {},
   "outputs": [],
   "source": [
    "df = pd.read_csv('ChnSentiCorp_htl_all_translated.csv')\n",
    "df['review'] = df['review'].apply(str)\n",
    "df['translated_review'] = df['translated_review'].apply(str)"
   ]
  },
  {
   "cell_type": "code",
   "execution_count": 3,
   "id": "31dd893e",
   "metadata": {},
   "outputs": [],
   "source": [
    "import re\n",
    "def clean_sentence(sen):\n",
    "    clean_sen = re.sub(r'[^\\w\\s]', '', sen)\n",
    "    return clean_sen\n",
    "\n",
    "df['review'] = df['review'].apply(clean_sentence)\n",
    "df['translated_review'] = df['translated_review'].apply(clean_sentence)"
   ]
  },
  {
   "cell_type": "code",
   "execution_count": 5,
   "id": "2402ef8f",
   "metadata": {},
   "outputs": [
    {
     "name": "stderr",
     "output_type": "stream",
     "text": [
      "[nltk_data] Downloading package punkt to /Users/hangao/nltk_data...\n",
      "[nltk_data]   Package punkt is already up-to-date!\n",
      "[nltk_data] Downloading package stopwords to\n",
      "[nltk_data]     /Users/hangao/nltk_data...\n",
      "[nltk_data]   Package stopwords is already up-to-date!\n"
     ]
    }
   ],
   "source": [
    "import nltk\n",
    "nltk.download('punkt')\n",
    "nltk.download('stopwords')\n",
    "from nltk.corpus import stopwords\n",
    "import string\n",
    "\n",
    "\n",
    "def segment_words(text):\n",
    "    return nltk.word_tokenize(text)\n",
    "\n",
    "def preprocess_words(words):\n",
    "    # Remove punctuation\n",
    "    table = str.maketrans('', '', string.punctuation)\n",
    "    words = [word.translate(table) for word in words]\n",
    "\n",
    "    # Remove stop words\n",
    "    stop_words = set(stopwords.words('english'))\n",
    "    stop_words.remove(\"very\")\n",
    "    words = [word for word in words if not word.lower() in stop_words]\n",
    "    \n",
    "    # Remove empty strings\n",
    "    words = [word for word in words if word != '']\n",
    "    \n",
    "\n",
    "    return words\n",
    "\n",
    "# Segment the sentences into words\n",
    "df['words-english'] = df['translated_review'].apply(segment_words)\n",
    "\n",
    "# Preprocess the words\n",
    "df['words-english'] = df['words-english'].apply(preprocess_words)\n",
    "\n",
    "\n",
    "# df['words-english'] = df['translated_review'].apply(lambda x: nltk.sent_tokenize(x))"
   ]
  },
  {
   "cell_type": "code",
   "execution_count": 6,
   "id": "8843d161",
   "metadata": {},
   "outputs": [
    {
     "data": {
      "text/plain": [
       "0       [closer, Sichuan, Sang, Highway, buses, wrong,...\n",
       "1       [large, business, bed, room, room, large, bed,...\n",
       "2       [Breakfast, bad, matter, many, people, go, foo...\n",
       "3       [hotel, small, street, easy, find, fortunately...\n",
       "4       [CBD, Center, shops, around, saying, 5, stars,...\n",
       "                              ...                        \n",
       "7761    [Several, characteristics, Nice, Hotel, large,...\n",
       "7762    [Yancheng, many, times, first, time, stayed, Y...\n",
       "7763    [feel, pretty, good, see, photos, 4, star, sta...\n",
       "7764    [went, Yancheng, Yancheng, lowest, temperature...\n",
       "7765    [honest, disappointed, felt, could, go, watchi...\n",
       "Name: words-english, Length: 7766, dtype: object"
      ]
     },
     "execution_count": 6,
     "metadata": {},
     "output_type": "execute_result"
    }
   ],
   "source": [
    "df['words-english']"
   ]
  },
  {
   "cell_type": "code",
   "execution_count": null,
   "id": "59909799",
   "metadata": {},
   "outputs": [],
   "source": []
  }
 ],
 "metadata": {
  "kernelspec": {
   "display_name": "Python 3 (ipykernel)",
   "language": "python",
   "name": "python3"
  },
  "language_info": {
   "codemirror_mode": {
    "name": "ipython",
    "version": 3
   },
   "file_extension": ".py",
   "mimetype": "text/x-python",
   "name": "python",
   "nbconvert_exporter": "python",
   "pygments_lexer": "ipython3",
   "version": "3.9.7"
  }
 },
 "nbformat": 4,
 "nbformat_minor": 5
}
